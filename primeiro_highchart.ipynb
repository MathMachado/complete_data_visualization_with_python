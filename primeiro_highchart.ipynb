{
 "cells": [
  {
   "cell_type": "markdown",
   "metadata": {},
   "source": [
    "<h1>Primeiro gráfico com Highchart</h1>"
   ]
  },
  {
   "cell_type": "markdown",
   "metadata": {},
   "source": [
    "<h3>Configurando os paths</h3>"
   ]
  },
  {
   "cell_type": "code",
   "execution_count": 20,
   "metadata": {},
   "outputs": [
    {
     "data": {
      "application/javascript": [
       "require.config({\n",
       "  paths: {\n",
       "    highcharts: \"http://code.highcharts.com/highcharts\",\n",
       "    highcharts_exports: \"http://code.highcharts.com/modules/exporting\",\n",
       "  },\n",
       "  shim: {\n",
       "    highcharts: {\n",
       "      exports: \"Highcharts\",\n",
       "      deps: [\"jquery\"]\n",
       "    },\n",
       "    highcharts_exports: {\n",
       "      exports: \"Highcharts\",\n",
       "      deps: [\"highcharts\"]\n",
       "    }\n",
       "  }\n",
       "});"
      ],
      "text/plain": [
       "<IPython.core.display.Javascript object>"
      ]
     },
     "metadata": {},
     "output_type": "display_data"
    }
   ],
   "source": [
    "%%javascript\n",
    "require.config({\n",
    "  paths: {\n",
    "    highcharts: \"http://code.highcharts.com/highcharts\",\n",
    "    highcharts_exports: \"http://code.highcharts.com/modules/exporting\",\n",
    "  },\n",
    "  shim: {\n",
    "    highcharts: {\n",
    "      exports: \"Highcharts\",\n",
    "      deps: [\"jquery\"]\n",
    "    },\n",
    "    highcharts_exports: {\n",
    "      exports: \"Highcharts\",\n",
    "      deps: [\"highcharts\"]\n",
    "    }\n",
    "  }\n",
    "});"
   ]
  },
  {
   "cell_type": "markdown",
   "metadata": {},
   "source": [
    "<h3>Transformando dados em Python para Javascript</h3>"
   ]
  },
  {
   "cell_type": "code",
   "execution_count": 21,
   "metadata": {},
   "outputs": [
    {
     "data": {
      "application/javascript": [
       "window.chartData=[{\"name\": \"Sobreviveram\", \"data\": [136, 87, 119]}, {\"name\": \"Morreram\", \"data\": [80, 97, 372]}];"
      ],
      "text/plain": [
       "<IPython.core.display.Javascript object>"
      ]
     },
     "execution_count": 21,
     "metadata": {},
     "output_type": "execute_result"
    }
   ],
   "source": [
    "import json\n",
    "from IPython.display import Javascript\n",
    "\n",
    "chart_data = [\n",
    "  {\n",
    "    'name': 'Sobreviveram',\n",
    "    'data': [136, 87, 119]\n",
    "  }, \n",
    "  {\n",
    "    'name': 'Morreram',\n",
    "    'data': [80, 97, 372]\n",
    "  }\n",
    "]\n",
    "\n",
    "Javascript(\"window.chartData={};\".format(json.dumps(chart_data)))"
   ]
  },
  {
   "cell_type": "markdown",
   "metadata": {},
   "source": [
    "<h3>Criando o Gráfico</h3>"
   ]
  },
  {
   "cell_type": "code",
   "execution_count": 22,
   "metadata": {},
   "outputs": [
    {
     "data": {
      "application/javascript": [
       "// Since I append the div later, sometimes there are multiple divs.\n",
       "$(\"#container\").remove();\n",
       "\n",
       "// Make the cdiv to contain the chart.\n",
       "element.append('<div id=\"container\" style=\"min-width: 310px; height: 400px; margin: 0 auto\"></div>');\n",
       "\n",
       "// Require highcarts and make the chart.\n",
       "require(['highcharts_exports'], function(Highcharts) {\n",
       "    $('#container').highcharts({\n",
       "        legend: {\n",
       "            layout: 'vertical',\n",
       "            align: 'right',\n",
       "            verticalAlign: 'middle',\n",
       "            borderWidth: 0\n",
       "        },\n",
       "        title: {\n",
       "            text: 'Sobreviventes ao Titanic'\n",
       "        },\n",
       "        xAxis: {\n",
       "            categories: ['1ª Classe', '2ª Classe', '3ª Classe']\n",
       "        },\n",
       "        yAxis: {\n",
       "            title: {\n",
       "                text: 'Número de pessoas',\n",
       "            },\n",
       "        },\n",
       "        credits: {\n",
       "            enabled: false\n",
       "        },\n",
       "        chart: {\n",
       "            type: 'column'\n",
       "          },\n",
       "        series: window.chartData\n",
       "    });\n",
       "});"
      ],
      "text/plain": [
       "<IPython.core.display.Javascript object>"
      ]
     },
     "metadata": {},
     "output_type": "display_data"
    }
   ],
   "source": [
    "%%javascript\n",
    "$(\"#container\").remove();\n",
    "element.append(\n",
    "    '<div id=\"container\" style=\"min-width: 310px; height: 400px; margin: 0 auto\"></div>'\n",
    ");\n",
    "\n",
    "require(['highcharts_exports'], function(Highcharts) {\n",
    "    $('#container').highcharts({\n",
    "        // comandos para o gráfico aqui\n",
    "        legend: {\n",
    "            layout: 'vertical',\n",
    "            align: 'right',\n",
    "            verticalAlign: 'middle',\n",
    "            borderWidth: 0\n",
    "        },\n",
    "        title: {\n",
    "            text: 'Sobreviventes ao Titanic'\n",
    "        },\n",
    "        xAxis: {\n",
    "            categories: ['1ª Classe', '2ª Classe', '3ª Classe']\n",
    "        },\n",
    "        yAxis: {\n",
    "            title: {\n",
    "                text: 'Número de pessoas',\n",
    "            },\n",
    "        },\n",
    "        credits: {\n",
    "            enabled: false\n",
    "        },\n",
    "        chart: {\n",
    "            type: 'column'\n",
    "          },\n",
    "        // dados para o grafico\n",
    "        series: window.chartData\n",
    "    });\n",
    "});"
   ]
  },
  {
   "cell_type": "markdown",
   "metadata": {},
   "source": [
    "Créditos:\n",
    "<ul>\n",
    "    <li>https://medium.com/r/?url=http%3A%2F%2Fjacobbridges.github.io%2Fpost%2Fjupyter-notebook-with-interactive-charts%2F</li>\n",
    "    <li>https://medium.com/r/?url=https%3A%2F%2Fwww.highcharts.com%2Fdocs%2Fgetting-started%2Fyour-first-chart</li>\n",
    "    <li>https://medium.com/r/?url=https%3A%2F%2Fwww.kaggle.com%2Fc%2Ftitanic%2Fdata</li>\n",
    "</ul>"
   ]
  },
  {
   "cell_type": "code",
   "execution_count": null,
   "metadata": {},
   "outputs": [],
   "source": []
  }
 ],
 "metadata": {
  "kernelspec": {
   "display_name": "Python 3",
   "language": "python",
   "name": "python3"
  }
 },
 "nbformat": 4,
 "nbformat_minor": 2
}
